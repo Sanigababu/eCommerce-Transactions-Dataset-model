{
 "cells": [
  {
   "cell_type": "markdown",
   "metadata": {},
   "source": [
    "# Lookalike Model\n",
    "### Data Science Assignment: eCommerce Transactions Dataset\n",
    "Author: Saniga Babu  \n",
    "Date: 27-01-2025\n"
   ]
  },
  {
   "cell_type": "code",
   "execution_count": 11,
   "metadata": {},
   "outputs": [
    {
     "name": "stdout",
     "output_type": "stream",
     "text": [
      "  CustomerID        CustomerName         Region  SignupDate\n",
      "0      C0001    Lawrence Carroll  South America  2022-07-10\n",
      "1      C0002      Elizabeth Lutz           Asia  2022-02-13\n",
      "2      C0003      Michael Rivera  South America  2024-03-07\n",
      "3      C0004  Kathleen Rodriguez  South America  2022-10-09\n",
      "4      C0005         Laura Weber           Asia  2022-08-15\n",
      "  ProductID              ProductName     Category   Price\n",
      "0      P001     ActiveWear Biography        Books  169.30\n",
      "1      P002    ActiveWear Smartwatch  Electronics  346.30\n",
      "2      P003  ComfortLiving Biography        Books   44.12\n",
      "3      P004            BookWorld Rug   Home Decor   95.69\n",
      "4      P005          TechPro T-Shirt     Clothing  429.31\n",
      "  TransactionID CustomerID ProductID      TransactionDate  Quantity  \\\n",
      "0        T00001      C0199      P067  2024-08-25 12:38:23         1   \n",
      "1        T00112      C0146      P067  2024-05-27 22:23:54         1   \n",
      "2        T00166      C0127      P067  2024-04-25 07:38:55         1   \n",
      "3        T00272      C0087      P067  2024-03-26 22:55:37         2   \n",
      "4        T00363      C0070      P067  2024-03-21 15:10:10         3   \n",
      "\n",
      "   TotalValue   Price  \n",
      "0      300.68  300.68  \n",
      "1      300.68  300.68  \n",
      "2      300.68  300.68  \n",
      "3      601.36  300.68  \n",
      "4      902.04  300.68  \n"
     ]
    }
   ],
   "source": [
    "import pandas as pd\n",
    "import numpy as np\n",
    "import matplotlib.pyplot as plt\n",
    "import seaborn as sns\n",
    "\n",
    "# Load datasets\n",
    "customers = pd.read_csv(r\"C:\\Users\\HP\\Downloads\\Customers.csv\")\n",
    "products = pd.read_csv(r\"C:\\Users\\HP\\Downloads\\Products.csv\")\n",
    "transactions = pd.read_csv(r\"C:\\Users\\HP\\Downloads\\Transactions.csv\")\n",
    "\n",
    "# Preview data\n",
    "print(customers.head())\n",
    "print(products.head())\n",
    "print(transactions.head())\n"
   ]
  },
  {
   "cell_type": "code",
   "execution_count": 18,
   "metadata": {},
   "outputs": [
    {
     "data": {
      "text/html": [
       "<div>\n",
       "<style scoped>\n",
       "    .dataframe tbody tr th:only-of-type {\n",
       "        vertical-align: middle;\n",
       "    }\n",
       "\n",
       "    .dataframe tbody tr th {\n",
       "        vertical-align: top;\n",
       "    }\n",
       "\n",
       "    .dataframe thead th {\n",
       "        text-align: right;\n",
       "    }\n",
       "</style>\n",
       "<table border=\"1\" class=\"dataframe\">\n",
       "  <thead>\n",
       "    <tr style=\"text-align: right;\">\n",
       "      <th></th>\n",
       "      <th>TransactionID</th>\n",
       "      <th>CustomerID</th>\n",
       "      <th>ProductID</th>\n",
       "      <th>TransactionDate</th>\n",
       "      <th>Quantity</th>\n",
       "      <th>TotalValue</th>\n",
       "      <th>Price_x</th>\n",
       "      <th>ProductName</th>\n",
       "      <th>Category</th>\n",
       "      <th>Price_y</th>\n",
       "      <th>CustomerName</th>\n",
       "      <th>Region</th>\n",
       "      <th>SignupDate</th>\n",
       "    </tr>\n",
       "  </thead>\n",
       "  <tbody>\n",
       "    <tr>\n",
       "      <th>0</th>\n",
       "      <td>T00001</td>\n",
       "      <td>C0199</td>\n",
       "      <td>P067</td>\n",
       "      <td>2024-08-25 12:38:23</td>\n",
       "      <td>1</td>\n",
       "      <td>300.68</td>\n",
       "      <td>300.68</td>\n",
       "      <td>ComfortLiving Bluetooth Speaker</td>\n",
       "      <td>Electronics</td>\n",
       "      <td>300.68</td>\n",
       "      <td>Andrea Jenkins</td>\n",
       "      <td>Europe</td>\n",
       "      <td>2022-12-03</td>\n",
       "    </tr>\n",
       "    <tr>\n",
       "      <th>1</th>\n",
       "      <td>T00761</td>\n",
       "      <td>C0199</td>\n",
       "      <td>P022</td>\n",
       "      <td>2024-10-01 05:57:09</td>\n",
       "      <td>4</td>\n",
       "      <td>550.16</td>\n",
       "      <td>137.54</td>\n",
       "      <td>HomeSense Wall Art</td>\n",
       "      <td>Home Decor</td>\n",
       "      <td>137.54</td>\n",
       "      <td>Andrea Jenkins</td>\n",
       "      <td>Europe</td>\n",
       "      <td>2022-12-03</td>\n",
       "    </tr>\n",
       "    <tr>\n",
       "      <th>2</th>\n",
       "      <td>T00626</td>\n",
       "      <td>C0199</td>\n",
       "      <td>P079</td>\n",
       "      <td>2024-08-17 12:06:08</td>\n",
       "      <td>2</td>\n",
       "      <td>834.74</td>\n",
       "      <td>417.37</td>\n",
       "      <td>ActiveWear Rug</td>\n",
       "      <td>Home Decor</td>\n",
       "      <td>417.37</td>\n",
       "      <td>Andrea Jenkins</td>\n",
       "      <td>Europe</td>\n",
       "      <td>2022-12-03</td>\n",
       "    </tr>\n",
       "    <tr>\n",
       "      <th>3</th>\n",
       "      <td>T00963</td>\n",
       "      <td>C0199</td>\n",
       "      <td>P008</td>\n",
       "      <td>2024-10-26 00:01:58</td>\n",
       "      <td>2</td>\n",
       "      <td>293.70</td>\n",
       "      <td>146.85</td>\n",
       "      <td>BookWorld Bluetooth Speaker</td>\n",
       "      <td>Electronics</td>\n",
       "      <td>146.85</td>\n",
       "      <td>Andrea Jenkins</td>\n",
       "      <td>Europe</td>\n",
       "      <td>2022-12-03</td>\n",
       "    </tr>\n",
       "    <tr>\n",
       "      <th>4</th>\n",
       "      <td>T00112</td>\n",
       "      <td>C0146</td>\n",
       "      <td>P067</td>\n",
       "      <td>2024-05-27 22:23:54</td>\n",
       "      <td>1</td>\n",
       "      <td>300.68</td>\n",
       "      <td>300.68</td>\n",
       "      <td>ComfortLiving Bluetooth Speaker</td>\n",
       "      <td>Electronics</td>\n",
       "      <td>300.68</td>\n",
       "      <td>Brittany Harvey</td>\n",
       "      <td>Asia</td>\n",
       "      <td>2024-09-04</td>\n",
       "    </tr>\n",
       "  </tbody>\n",
       "</table>\n",
       "</div>"
      ],
      "text/plain": [
       "  TransactionID CustomerID ProductID      TransactionDate  Quantity  \\\n",
       "0        T00001      C0199      P067  2024-08-25 12:38:23         1   \n",
       "1        T00761      C0199      P022  2024-10-01 05:57:09         4   \n",
       "2        T00626      C0199      P079  2024-08-17 12:06:08         2   \n",
       "3        T00963      C0199      P008  2024-10-26 00:01:58         2   \n",
       "4        T00112      C0146      P067  2024-05-27 22:23:54         1   \n",
       "\n",
       "   TotalValue  Price_x                      ProductName     Category  Price_y  \\\n",
       "0      300.68   300.68  ComfortLiving Bluetooth Speaker  Electronics   300.68   \n",
       "1      550.16   137.54               HomeSense Wall Art   Home Decor   137.54   \n",
       "2      834.74   417.37                   ActiveWear Rug   Home Decor   417.37   \n",
       "3      293.70   146.85      BookWorld Bluetooth Speaker  Electronics   146.85   \n",
       "4      300.68   300.68  ComfortLiving Bluetooth Speaker  Electronics   300.68   \n",
       "\n",
       "      CustomerName  Region  SignupDate  \n",
       "0   Andrea Jenkins  Europe  2022-12-03  \n",
       "1   Andrea Jenkins  Europe  2022-12-03  \n",
       "2   Andrea Jenkins  Europe  2022-12-03  \n",
       "3   Andrea Jenkins  Europe  2022-12-03  \n",
       "4  Brittany Harvey    Asia  2024-09-04  "
      ]
     },
     "execution_count": 18,
     "metadata": {},
     "output_type": "execute_result"
    }
   ],
   "source": [
    "# Load datasets\n",
    "data = pd.merge(transactions, products, on='ProductID')\n",
    "data = pd.merge(data, customers, on='CustomerID')\n",
    "\n",
    "# Preview merged data\n",
    "data.head()\n"
   ]
  },
  {
   "cell_type": "code",
   "execution_count": 13,
   "metadata": {},
   "outputs": [
    {
     "name": "stdout",
     "output_type": "stream",
     "text": [
      "  CustomerID  TotalValue  Quantity     Price_x\n",
      "0      C0001     3354.52        12  278.334000\n",
      "1      C0002     1862.74        10  208.920000\n",
      "2      C0003     2725.38        14  195.707500\n",
      "3      C0004     5354.88        23  240.636250\n",
      "4      C0005     2034.24         7  291.603333\n"
     ]
    }
   ],
   "source": [
    "customer_profiles = data.groupby('CustomerID').agg({\n",
    "    'TotalValue': 'sum',\n",
    "    'Quantity': 'sum',\n",
    "    'Price_x': 'mean'  # Use 'Price_x' or 'Price_y' based on your inspection\n",
    "}).reset_index()\n",
    "\n",
    "print(customer_profiles.head())\n"
   ]
  },
  {
   "cell_type": "code",
   "execution_count": 14,
   "metadata": {},
   "outputs": [],
   "source": [
    "from sklearn.metrics.pairwise import cosine_similarity\n",
    "\n",
    "# Compute cosine similarity\n",
    "similarity_matrix = cosine_similarity(customer_profiles.iloc[:, 1:])\n",
    "\n",
    "# Map customer IDs to indices\n",
    "customer_ids = customer_profiles['CustomerID'].tolist()\n"
   ]
  },
  {
   "cell_type": "code",
   "execution_count": 15,
   "metadata": {},
   "outputs": [
    {
     "name": "stdout",
     "output_type": "stream",
     "text": [
      "{'C0001': [('C0024', 0.9999996421706187), ('C0189', 0.9999996375134669), ('C0107', 0.9999992989732556)], 'C0002': [('C0129', 0.9999988566886444), ('C0019', 0.9999978562049315), ('C0076', 0.9999967196606208)], 'C0003': [('C0179', 0.9999987423691975), ('C0190', 0.9999977883098434), ('C0064', 0.9999975694094638)], 'C0004': [('C0045', 0.9999997737504512), ('C0143', 0.9999996636664495), ('C0087', 0.9999995363353025)], 'C0005': [('C0132', 0.9999943210266752), ('C0089', 0.9999924734240622), ('C0192', 0.9999862999324752)], 'C0006': [('C0152', 0.9999999425199014), ('C0011', 0.9999997883205541), ('C0183', 0.9999993579540706)], 'C0007': [('C0085', 0.9999996094049464), ('C0061', 0.9999995470516185), ('C0192', 0.9999970571835672)], 'C0008': [('C0162', 0.9999995343196986), ('C0018', 0.9999991527968856), ('C0182', 0.9999991503182171)], 'C0009': [('C0020', 0.9999999960241247), ('C0080', 0.9999999388154599), ('C0015', 0.9997230840730107)], 'C0010': [('C0047', 0.9999968898355767), ('C0030', 0.9999965583809072), ('C0027', 0.9999956188619309)], 'C0011': [('C0006', 0.9999997883205541), ('C0152', 0.9999997768194087), ('C0183', 0.9999994211866632)], 'C0012': [('C0093', 0.9999999721721483), ('C0046', 0.9999998679723923), ('C0039', 0.9999996229371653)], 'C0013': [('C0108', 0.9999999550477814), ('C0105', 0.9999999029409828), ('C0018', 0.9999996718271105)], 'C0014': [('C0150', 0.999996796506745), ('C0130', 0.9999965179849102), ('C0078', 0.9999927163495916)], 'C0015': [('C0083', 0.9999905609743992), ('C0009', 0.9997230840730107), ('C0020', 0.9997230685498337)], 'C0016': [('C0040', 0.9999995942007424), ('C0158', 0.9999992702874061), ('C0184', 0.9999988020713153)], 'C0017': [('C0053', 0.9999994452376704), ('C0136', 0.9999994272080842), ('C0102', 0.9999991907343112)], 'C0018': [('C0162', 0.9999999140722543), ('C0108', 0.9999998568948323), ('C0105', 0.9999997453748134)], 'C0019': [('C0088', 0.9999984720957653), ('C0002', 0.9999978562049315), ('C0116', 0.9999977989240714)], 'C0020': [('C0009', 0.9999999960241247), ('C0080', 0.9999999660333079), ('C0015', 0.9997230685498337)]}\n"
     ]
    }
   ],
   "source": [
    "# Generate top 3 lookalikes for each customer\n",
    "lookalikes = {}\n",
    "for i, customer_id in enumerate(customer_ids[:20]):\n",
    "    similar_indices = similarity_matrix[i].argsort()[-4:-1][::-1]\n",
    "    similar_customers = [(customer_ids[j], similarity_matrix[i][j]) for j in similar_indices]\n",
    "    lookalikes[customer_id] = similar_customers\n",
    "\n",
    "print(lookalikes)\n"
   ]
  },
  {
   "cell_type": "code",
   "execution_count": 16,
   "metadata": {},
   "outputs": [],
   "source": [
    "import csv\n",
    "\n",
    "with open('FirstName_LastName_Lookalike.csv', 'w', newline='') as file:\n",
    "    writer = csv.writer(file)\n",
    "    writer.writerow(['CustomerID', 'Lookalikes'])\n",
    "    for key, value in lookalikes.items():\n",
    "        writer.writerow([key, value])\n"
   ]
  }
 ],
 "metadata": {
  "kernelspec": {
   "display_name": "base",
   "language": "python",
   "name": "python3"
  },
  "language_info": {
   "codemirror_mode": {
    "name": "ipython",
    "version": 3
   },
   "file_extension": ".py",
   "mimetype": "text/x-python",
   "name": "python",
   "nbconvert_exporter": "python",
   "pygments_lexer": "ipython3",
   "version": "3.11.4"
  }
 },
 "nbformat": 4,
 "nbformat_minor": 2
}
